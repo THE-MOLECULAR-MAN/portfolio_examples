{
 "cells": [
  {
   "cell_type": "markdown",
   "metadata": {},
   "source": [
    "# Modeling IoT Malware Classification using XGBoost\n",
    "\n",
    "Final Model metrics:\n",
    "* F1                          0.985140\n",
    "* roc_auc_score               0.984291\n",
    "* Accuracy                    0.980943\n",
    "* Recall                      0.973070\n",
    "* Precision                   0.997514\n",
    "* Brier Skill Score           0.969994\n",
    "* Cohen Kappa Score           0.958594\n",
    "* Average Precision Score     0.988133\n",
    "* Balanced Accuracy Score     0.984291\n",
    "* FBeta Score where Beta=2    0.977863\n",
    "\n"
   ]
  },
  {
   "cell_type": "code",
   "execution_count": 26,
   "metadata": {},
   "outputs": [],
   "source": [
    "# built in modules\n",
    "from datetime import datetime\n",
    "time_start_notebook =  datetime.now()\n",
    "# import os\n",
    "import sys\n",
    "import importlib\n",
    "\n",
    "# PIP modules\n",
    "import pandas as pd\n",
    "# import numpy as np\n",
    "import seaborn as sns\n",
    "from   sklearn.model_selection import train_test_split # GridSearchCV, cross_validate, \n",
    "import matplotlib.pyplot as plt\n",
    "import sklearn.metrics as skm\n",
    "from   xgboost import XGBClassifier\n",
    "\n",
    "# My custom Python module\n",
    "######################### DON'T TOUCH ANYTHING BELOW #########################\n",
    "newpath = '..'\n",
    "if not newpath in sys.path:\n",
    "    sys.path.insert(1, newpath)\n",
    "del newpath\n",
    "import tim_ml_lib as tml    # works\n",
    "importlib.reload(tml)     # reload it since I'm frequently making changes.\n",
    "######################### DON'T TOUCH ANYTHING ABOVE #########################\n",
    "\n",
    "# some common, basic setup\n",
    "tml.initialize_random_seeds()\n",
    "tml.initialize_display_options()"
   ]
  },
  {
   "cell_type": "markdown",
   "metadata": {},
   "source": [
    "# Model Options"
   ]
  },
  {
   "cell_type": "code",
   "execution_count": 27,
   "metadata": {},
   "outputs": [],
   "source": [
    "INPUT_FILEPATH      = './data/CTU-IoT-Malware-Capture_ready2train.csv.gz'\n",
    "LABEL_COLUMN_NAME   = 'is_IoT_malware'\n",
    "PRIMARY_METRIC      = 'F1'                      # key from 'scoring' dict\n",
    "TEST_SIZE           = 0.3\n",
    "# CV                  = 9\n",
    "\n",
    "# The beta parameter represents the ratio of recall importance to precision importance.\n",
    "# beta > 1 gives more weight to recall, while beta < 1 favors precision. For example,\n",
    "# beta = 2 makes recall twice as important as precision,\n",
    "# while beta = 0.5 does the opposite\n",
    "F_SCORE_BETA        = 2\n",
    "\n",
    "RANDOM_STATE        = tml.settings.RANDOM_STATE\n",
    "N_JOBS              = tml.get_ideal_num_jobs()  # number of CPU cores to use\n",
    "ZERO_DIVISION_VALUE = 0                         #\n",
    "\n",
    "scoring = {\n",
    "    \"F1\":                 skm.make_scorer(skm.f1_score, zero_division=ZERO_DIVISION_VALUE),                  \n",
    "    \"Accuracy\":           'accuracy',  \n",
    "    \"Recall\":             skm.make_scorer(skm.recall_score, zero_division=ZERO_DIVISION_VALUE),  \n",
    "    \"Precision\":          skm.make_scorer(skm.precision_score, zero_division=ZERO_DIVISION_VALUE),             \n",
    "    \"roc_auc\":            \"roc_auc\",  \n",
    "    \"roc_auc_score\":      skm.make_scorer(skm.roc_auc_score),    \n",
    "    \"neg_log_loss\":       \"neg_log_loss\",  \n",
    "    \"Brier Score Loss\":   skm.make_scorer(skm.brier_score_loss),  \n",
    "    }\n",
    "\n",
    "FLOAT_DATATYPE = 'float32[pyarrow]'     \n",
    "\n",
    "TRAINING_DATATYPES = {\n",
    "    'is_IoT_malware':      'uint8[pyarrow]',    # label   \n",
    "    'duration':            FLOAT_DATATYPE,      # float b/c of standardization\n",
    "    'orig_pkts':           FLOAT_DATATYPE,      # float b/c of standardization   \n",
    "    'hour_of_day':         FLOAT_DATATYPE,      # added feature - values ranges from [0,23]\n",
    "    'src_port_range_name': 'uint8[pyarrow]',    # added feature - values ranges from [0,4]\n",
    "    'orig_ip_bytes':       FLOAT_DATATYPE,\n",
    "    'proto_icmp':          'uint8[pyarrow]',\n",
    "    'proto_tcp':           'uint8[pyarrow]',\n",
    "    'proto_udp':           'uint8[pyarrow]'\n",
    "}"
   ]
  },
  {
   "cell_type": "code",
   "execution_count": 28,
   "metadata": {},
   "outputs": [
    {
     "name": "stdout",
     "output_type": "stream",
     "text": [
      "Dataframe chunk shape: (3000001, 9)\n",
      "Dataframe size in memory: 63.0 MB\n",
      "X shape: (3000001, 8)\n",
      "y shape: (3000001,)\n"
     ]
    }
   ],
   "source": [
    "df = pd.read_csv(INPUT_FILEPATH,\n",
    "                delimiter=',',\n",
    "                # engine='pyarrow',# chunksize isn't supported by pyarrow\n",
    "                engine='c',\n",
    "                dtype=TRAINING_DATATYPES,\n",
    "                header=0,\n",
    "                nrows=3000001) # reduced runtime from 41 sec to 4.7 sec\n",
    "\n",
    "# df = df.sample(n=3000001, random_state=RANDOM_STATE)\n",
    "\n",
    "y  = df[LABEL_COLUMN_NAME]\n",
    "X  = df.drop(columns=LABEL_COLUMN_NAME, axis=1)\n",
    "\n",
    "print(f'Dataframe chunk shape: {df.shape}')\n",
    "print(f'Dataframe size in memory: {tml.get_total_dataframe_memory_usage(df)}')\n",
    "print(f'X shape: {X.shape}')\n",
    "print(f'y shape: {y.shape}')"
   ]
  },
  {
   "cell_type": "markdown",
   "metadata": {},
   "source": [
    "# Single model, not Grid Search"
   ]
  },
  {
   "cell_type": "code",
   "execution_count": 29,
   "metadata": {},
   "outputs": [],
   "source": [
    "final_model = XGBClassifier(\n",
    "        objective='binary:logistic',\n",
    "        random_state=RANDOM_STATE,\n",
    "        max_depth=2,\n",
    "        n_estimators=100,\n",
    "        learning_rate=0.9,\n",
    "        )\n",
    "\n",
    "X_train, X_test, y_train, y_test = train_test_split(X, y, test_size=TEST_SIZE, random_state=RANDOM_STATE)\n",
    "\n",
    "final_model.fit(X_train, y_train)\n",
    "num_predictions = X_test.shape[0]\n",
    "y_pred = final_model.predict(X_test)\n",
    "\n",
    "# scores_train = cross_validate(final_model, X_train, y_train, cv=CV, scoring=scoring, n_jobs=N_JOBS)\n",
    "# print(y_test.shape)\n",
    "# print(y_pred.shape)"
   ]
  },
  {
   "cell_type": "code",
   "execution_count": 30,
   "metadata": {},
   "outputs": [
    {
     "data": {
      "text/plain": [
       "F1                          0.985787\n",
       "roc_auc_score               0.985450\n",
       "Accuracy                    0.981782\n",
       "Recall                      0.973156\n",
       "Precision                   0.998749\n",
       "Brier Skill Score           0.971315\n",
       "Cohen Kappa Score           0.960435\n",
       "Average Precision Score     0.989366\n",
       "Balanced Accuracy Score     0.985450\n",
       "FBeta Score where Beta=2    0.978169\n",
       "dtype: float64"
      ]
     },
     "execution_count": 30,
     "metadata": {},
     "output_type": "execute_result"
    }
   ],
   "source": [
    "scores_test = {}\n",
    "\n",
    "scores_test['F1']                      = skm.f1_score(y_test, y_pred)\n",
    "scores_test['roc_auc_score']           = skm.roc_auc_score(y_test, y_pred)\n",
    "scores_test['Accuracy']                = skm.accuracy_score(y_test, y_pred)\n",
    "scores_test['Recall']                  = skm.recall_score(y_test, y_pred)\n",
    "scores_test['Precision']               = skm.precision_score(y_test, y_pred)\n",
    "scores_test['Brier Skill Score']       = tml.brier_skill_score(y_test, y_pred)\n",
    "scores_test['Cohen Kappa Score']       = skm.cohen_kappa_score(y_test, y_pred)\n",
    "scores_test['Average Precision Score'] = skm.average_precision_score(y_test, y_pred)\n",
    "scores_test['Balanced Accuracy Score'] = skm.balanced_accuracy_score(y_test, y_pred)\n",
    "\n",
    "scores_test[f'FBeta Score where Beta={F_SCORE_BETA}']      = skm.fbeta_score(y_test, y_pred, beta=F_SCORE_BETA)\n",
    "\n",
    "# scores_test['Log Loss']                = skm.log_loss(y_test, y_pred)\n",
    "# scores_test['d2_log_loss_score']       = skm.d2_log_loss_score(y_test, y_pred)\n",
    "# scores_test['hamming_loss']            = skm.hamming_loss(y_test, y_pred)\n",
    "# scores_test['hinge_loss']              = skm.hinge_loss(y_test, y_pred)\n",
    "# scores_test['jaccard_score']           = skm.jaccard_score(y_test, y_pred)\n",
    "# scores_test['Zero One Loss']           = skm.zero_one_loss(y_test, y_pred)\n",
    "\n",
    "s_perf = pd.Series(scores_test)\n",
    "s_perf"
   ]
  },
  {
   "cell_type": "code",
   "execution_count": 31,
   "metadata": {},
   "outputs": [
    {
     "data": {
      "image/png": "[encoded data removed]",
      "text/plain": [
       "<Figure size 500x500 with 2 Axes>"
      ]
     },
     "metadata": {},
     "output_type": "display_data"
    }
   ],
   "source": [
    "sns.set_theme(style=\"white\")    # the default theme causes minor issues with Confusion Matrix\n",
    "\n",
    "# using this version for better display options, even though it is slower\n",
    "cm_fig = skm.ConfusionMatrixDisplay.from_estimator(final_model, X_test, y_test,\n",
    "                            cmap='Blues',\n",
    "                            normalize='all',  # 'true', 'pred', 'all' or None\n",
    "                            display_labels=['Benign', 'Malware'],\n",
    "                            values_format='0.3f'\n",
    "                            )\n",
    "\n",
    "plt.title('Confusion Matrix for IoT Malware Final Model\\nValues normalized')\n",
    "plt.show()"
   ]
  },
  {
   "cell_type": "code",
   "execution_count": 32,
   "metadata": {},
   "outputs": [
    {
     "name": "stdout",
     "output_type": "stream",
     "text": [
      "              precision    recall  f1-score   support\n",
      "\n",
      "         0.0      0.953     0.998     0.975    315737\n",
      "         1.0      0.999     0.973     0.986    584264\n",
      "\n",
      "    accuracy                          0.982    900001\n",
      "   macro avg      0.976     0.985     0.980    900001\n",
      "weighted avg      0.983     0.982     0.982    900001\n",
      "\n"
     ]
    }
   ],
   "source": [
    "print(skm.classification_report(y_test, y_pred, digits=3))"
   ]
  },
  {
   "cell_type": "markdown",
   "metadata": {},
   "source": [
    "# Analyzing speed / runtime"
   ]
  },
  {
   "cell_type": "code",
   "execution_count": 33,
   "metadata": {},
   "outputs": [
    {
     "name": "stdout",
     "output_type": "stream",
     "text": [
      "900001\n"
     ]
    }
   ],
   "source": [
    "print(num_predictions)\n",
    "%timeit -n 1 -r 20 y_pred = final_model.predict(X_test)\n",
    "# 59.4 ms / 900001 samples = 0.000000065333261 seconds per sample = 15,306,139 samples per second"
   ]
  },
  {
   "cell_type": "code",
   "execution_count": null,
   "metadata": {},
   "outputs": [
    {
     "name": "stdout",
     "output_type": "stream",
     "text": [
      "583 μs ± 53.1 μs per loop (mean ± std. dev. of 10 runs, 100 loops each)\n"
     ]
    }
   ],
   "source": [
    "%timeit -n 100 -r 10 final_model.predict(X_test.iloc[:1])\n",
    "# 573 μs ± 42.6 μs per loop (mean ± std. dev. of 10 runs, 100 loops each) = 0.000573 seconds -> 1745 samples per second"
   ]
  },
  {
   "cell_type": "markdown",
   "metadata": {},
   "source": [
    "## Analyzing memory utilization\n",
    "* pympler.asizeof says 5 kilobytes\n",
    "* pickle says 94 kilobytes"
   ]
  },
  {
   "cell_type": "code",
   "execution_count": null,
   "metadata": {},
   "outputs": [
    {
     "name": "stdout",
     "output_type": "stream",
     "text": [
      "Requirement already satisfied: pympler in /opt/homebrew/anaconda3/lib/python3.11/site-packages (1.0.1)\n",
      "Note: you may need to restart the kernel to use updated packages.\n"
     ]
    },
    {
     "data": {
      "text/plain": [
       "5152"
      ]
     },
     "execution_count": 23,
     "metadata": {},
     "output_type": "execute_result"
    }
   ],
   "source": [
    "# %pip install pympler\n",
    "from pympler.asizeof import asizeof\n",
    "# sys.getsizeof(final_model)  # very inaccurate\n",
    "asizeof(final_model)    # 5168 bytes"
   ]
  },
  {
   "cell_type": "code",
   "execution_count": null,
   "metadata": {},
   "outputs": [],
   "source": [
    "import pickle\n",
    "with open('final_model.pickle', \"wb\") as f:\n",
    "    pickle.dump(final_model, f)"
   ]
  },
  {
   "cell_type": "code",
   "execution_count": null,
   "metadata": {},
   "outputs": [],
   "source": [
    "time_end_notebook =  datetime.now()\n",
    "print(time_end_notebook - time_start_notebook)"
   ]
  }
 ],
 "metadata": {
  "kernelspec": {
   "display_name": "Python 3 (ipykernel)",
   "language": "python",
   "name": "python3"
  },
  "language_info": {
   "codemirror_mode": {
    "name": "ipython",
    "version": 3
   },
   "file_extension": ".py",
   "mimetype": "text/x-python",
   "name": "python",
   "nbconvert_exporter": "python",
   "pygments_lexer": "ipython3",
   "version": "3.11.7"
  }
 },
 "nbformat": 4,
 "nbformat_minor": 4
}
