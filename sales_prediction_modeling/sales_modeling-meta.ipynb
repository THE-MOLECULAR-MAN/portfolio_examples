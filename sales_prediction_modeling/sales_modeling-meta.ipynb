{
 "cells": [
  {
   "cell_type": "markdown",
   "metadata": {},
   "source": [
    "# Modeling Sales Win Rates based on historical CRM data"
   ]
  },
  {
   "cell_type": "markdown",
   "metadata": {},
   "source": [
    "# Install dependencies\n",
    "Fixes issues with Lambda Labs instances.\n",
    "LambdaLabs uses an older version of JupyterLab, v4.0.9. Current is 4.2.1. Must upgrade all of these packages on Lambda Labs, otherwise it will cause errors"
   ]
  },
  {
   "cell_type": "code",
   "execution_count": 16,
   "metadata": {},
   "outputs": [
    {
     "name": "stdout",
     "output_type": "stream",
     "text": [
      "Note: you may need to restart the kernel to use updated packages.\n",
      "Requirement already satisfied: visions in /opt/homebrew/anaconda3/lib/python3.11/site-packages (0.7.6)\n",
      "Requirement already satisfied: flatbuffers in /opt/homebrew/anaconda3/lib/python3.11/site-packages (24.3.25)\n",
      "Requirement already satisfied: numpy>=1.23.2 in /opt/homebrew/anaconda3/lib/python3.11/site-packages (from visions) (1.26.4)\n",
      "Requirement already satisfied: pandas>=2.0.0 in /opt/homebrew/anaconda3/lib/python3.11/site-packages (from visions) (2.2.2)\n",
      "Requirement already satisfied: attrs>=19.3.0 in /opt/homebrew/anaconda3/lib/python3.11/site-packages (from visions) (23.2.0)\n",
      "Requirement already satisfied: networkx>=2.4 in /opt/homebrew/anaconda3/lib/python3.11/site-packages (from visions) (3.1)\n",
      "Requirement already satisfied: multimethod>=1.4 in /opt/homebrew/anaconda3/lib/python3.11/site-packages (from visions) (1.11.2)\n",
      "Requirement already satisfied: python-dateutil>=2.8.2 in /opt/homebrew/anaconda3/lib/python3.11/site-packages (from pandas>=2.0.0->visions) (2.8.2)\n",
      "Requirement already satisfied: pytz>=2020.1 in /opt/homebrew/anaconda3/lib/python3.11/site-packages (from pandas>=2.0.0->visions) (2024.1)\n",
      "Requirement already satisfied: tzdata>=2022.7 in /opt/homebrew/anaconda3/lib/python3.11/site-packages (from pandas>=2.0.0->visions) (2023.3)\n",
      "Requirement already satisfied: six>=1.5 in /opt/homebrew/anaconda3/lib/python3.11/site-packages (from python-dateutil>=2.8.2->pandas>=2.0.0->visions) (1.16.0)\n",
      "Note: you may need to restart the kernel to use updated packages.\n",
      "\n",
      "\n",
      "========== Finished installing/upgrading PIP packages==========\n"
     ]
    }
   ],
   "source": [
    "%pip install --upgrade --quiet pip xgboost bottleneck pandas scikit-learn scipy numpy matplotlib pyarrow seaborn numexpr jupyterlab jupyter ipykernel jupyter-server ydata-profiling anaconda-cloud-auth loky cython\n",
    "# %pip install --upgrade visions flatbuffers # stops some warnings in Lambda Labs\n",
    "print('\\n\\n========== Finished installing/upgrading PIP packages==========')"
   ]
  },
  {
   "cell_type": "markdown",
   "metadata": {},
   "source": [
    "# Load dependencies"
   ]
  },
  {
   "cell_type": "code",
   "execution_count": null,
   "metadata": {},
   "outputs": [],
   "source": [
    "# Disable certain Lint checks that don't apply to Jupyter Notebooks, or that\n",
    "# I just don't care about.\n",
    "# pylint: disable=pointless-statement\n",
    "# pylint: disable=fixme\n",
    "# pylint: disable=expression-not-assigned\n",
    "# pylint: disable=missing-module-docstring\n",
    "# pylint: disable=invalid-name\n",
    "# pylint: disable=import-error\n",
    "# pylint: disable=line-too-long\n",
    "\n",
    "import os\n",
    "import importlib\n",
    "\n",
    "import saleslib                         # my custom one\n",
    "importlib.reload(saleslib)\n",
    "from saleslib import LABEL_COLUMN_NAME, RANDOM_STATE\n",
    "\n",
    "#saleslib.initialize_random_seeds()\n",
    "saleslib.initialize_display_options(sns_style='white')  # darkgrid causes minor display issues with ConfusionMatrixDisplay"
   ]
  },
  {
   "cell_type": "markdown",
   "metadata": {},
   "source": [
    "# Setting custom parameters for this notebook"
   ]
  },
  {
   "cell_type": "code",
   "execution_count": null,
   "metadata": {},
   "outputs": [],
   "source": [
    "# path to training data that was prepared by a separate notebook.\n",
    "input_filepath = os.path.join(\n",
    "   os.getcwd(), \"data\", \"raw_CRM_opps_export-dummydata_prepped.csv\"\n",
    ")\n",
    "\n",
    "# METRICS_OUTPUT_PATH = '/home/ubuntu/persistent-west1-tim/sales_modeling_metrics-LAMBDALABS.csv'\n",
    "METRICS_OUTPUT_PATH = 'sales_modeling_metrics-laptop.csv'"
   ]
  },
  {
   "cell_type": "markdown",
   "metadata": {},
   "source": [
    "# Load, validate, split up the training data\n",
    "\n",
    "Check that the data does not contain any missing values and all values are numeric datatypes."
   ]
  },
  {
   "cell_type": "code",
   "execution_count": null,
   "metadata": {},
   "outputs": [],
   "source": [
    "df = saleslib.load_data_raw(input_filepath)\n",
    "\n",
    "saleslib.verify_data_ready_for_training(df)\n",
    "y = df[LABEL_COLUMN_NAME]\n",
    "X = df.drop(columns=LABEL_COLUMN_NAME, axis=1)\n",
    "\n",
    "# save memory since this variable takes up a lot of space and isn't used again\n",
    "del df"
   ]
  },
  {
   "cell_type": "code",
   "execution_count": null,
   "metadata": {},
   "outputs": [],
   "source": [
    "metrics_list      = ['roc_auc', 'F1']  #, 'roc_auc_score', 'F1', 'neg_log_loss', 'precision', 'recall']\n",
    "testsize_list     = [0.2]              # not used at the moment\n",
    "CV_list           = [5, 7, 9]\n",
    "random_state_list = [123456]\n",
    "\n",
    "param_grid = {\n",
    "   'max_depth':     [8, 16, 32],\n",
    "   'n_estimators':  [70000, 100000, 200000],\n",
    "   'learning_rate': [0.25, 0.10, 0.05]\n",
    "}\n",
    "\n",
    "saleslib.run_sales_grid_search_loop(X, y, metrics_list, testsize_list, CV_list, random_state_list, param_grid, METRICS_OUTPUT_PATH)\n",
    "\n",
    "print('\\n\\n========== FINISHED ALL GRID SEARCHES ==========')"
   ]
  },
  {
   "cell_type": "code",
   "execution_count": 25,
   "metadata": {},
   "outputs": [
    {
     "data": {
      "text/plain": [
       "0.5730569171314204"
      ]
     },
     "execution_count": 25,
     "metadata": {},
     "output_type": "execute_result"
    }
   ],
   "source": []
  },
  {
   "cell_type": "code",
   "execution_count": null,
   "metadata": {},
   "outputs": [],
   "source": []
  }
 ],
 "metadata": {
  "kernelspec": {
   "display_name": "base",
   "language": "python",
   "name": "python3"
  },
  "language_info": {
   "codemirror_mode": {
    "name": "ipython",
    "version": 3
   },
   "file_extension": ".py",
   "mimetype": "text/x-python",
   "name": "python",
   "nbconvert_exporter": "python",
   "pygments_lexer": "ipython3",
   "version": "3.11.7"
  }
 },
 "nbformat": 4,
 "nbformat_minor": 2
}
